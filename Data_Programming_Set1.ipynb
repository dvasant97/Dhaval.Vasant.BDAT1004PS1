{
  "nbformat": 4,
  "nbformat_minor": 0,
  "metadata": {
    "colab": {
      "provenance": [],
      "authorship_tag": "ABX9TyOtr+JfEaVJn8lOk085BsbK",
      "include_colab_link": true
    },
    "kernelspec": {
      "name": "python3",
      "display_name": "Python 3"
    },
    "language_info": {
      "name": "python"
    }
  },
  "cells": [
    {
      "cell_type": "markdown",
      "metadata": {
        "id": "view-in-github",
        "colab_type": "text"
      },
      "source": [
        "<a href=\"https://colab.research.google.com/github/dvasant97/Dhaval.Vasant.BDAT1004PS1/blob/main/Data_Programming_Set1.ipynb\" target=\"_parent\"><img src=\"https://colab.research.google.com/assets/colab-badge.svg\" alt=\"Open In Colab\"/></a>"
      ]
    },
    {
      "cell_type": "code",
      "execution_count": 14,
      "metadata": {
        "id": "IOjG6XsoTiPx"
      },
      "outputs": [],
      "source": []
    },
    {
      "cell_type": "markdown",
      "source": [],
      "metadata": {
        "id": "XVT91UMLWhfs"
      }
    },
    {
      "cell_type": "markdown",
      "source": [
        "**Question 1 :**\n",
        "What data type is each of the following (evaluate where necessary)?\n",
        "\n",
        "* 5 = Integer\n",
        "•\t5.0 = Float\n",
        "•\t5 > 1 = Boolean\n",
        "• '5' = String\n",
        "•\t5 * 2 = Integer\n",
        "•\t'5' * 2 = String\n",
        "•\t'5' + '2' = String\n",
        "•\t5 / 2 = Float\n",
        "•\t5 % 2 = Integer\n",
        "•\t{5, 2, 1} = Set\n",
        "•\t5 == 3 = Boolean\n",
        "•\tPi (the number) = Float\n"
      ],
      "metadata": {
        "id": "xbz1GyIJTxLO"
      }
    }
  ]
}