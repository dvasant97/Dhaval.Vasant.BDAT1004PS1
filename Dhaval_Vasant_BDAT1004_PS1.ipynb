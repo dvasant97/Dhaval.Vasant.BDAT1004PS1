{
  "nbformat": 4,
  "nbformat_minor": 0,
  "metadata": {
    "colab": {
      "provenance": [],
      "authorship_tag": "ABX9TyMyWdePnOWnToRBD57pPE7t",
      "include_colab_link": true
    },
    "kernelspec": {
      "name": "python3",
      "display_name": "Python 3"
    },
    "language_info": {
      "name": "python"
    }
  },
  "cells": [
    {
      "cell_type": "markdown",
      "metadata": {
        "id": "view-in-github",
        "colab_type": "text"
      },
      "source": [
        "<a href=\"https://colab.research.google.com/github/dvasant97/Dhaval.Vasant.BDAT1004PS1/blob/main/Dhaval_Vasant_BDAT1004_PS1.ipynb\" target=\"_parent\"><img src=\"https://colab.research.google.com/assets/colab-badge.svg\" alt=\"Open In Colab\"/></a>"
      ]
    },
    {
      "cell_type": "markdown",
      "source": [
        "# **Question 1 :**\n",
        "What data type is each of the following (evaluate where necessary)?\n",
        "\n",
        "* 5 = Integer\n",
        "* 5.0 = Float\n",
        "* 5 > 1 = Boolean\n",
        "* '5' = String\n",
        "* 5 * 2 = Integer\n",
        "* '5' * 2 = String\n",
        "* '5' + '2' = String\n",
        "* 5 / 2 = Float\n",
        "* 5 % 2 = Integer\n",
        "* {5, 2, 1} = Set\n",
        "* 5 == 3 = Boolean\n",
        "* Pi (the number) = Float\n",
        "\n",
        "---\n",
        "\n",
        "\n"
      ],
      "metadata": {
        "id": "xbz1GyIJTxLO"
      }
    },
    {
      "cell_type": "markdown",
      "source": [
        "#**Question 2 :**\n",
        "Write (and evaluate) python expressions that answer these questions:\n",
        "\n",
        "---\n",
        "\n"
      ],
      "metadata": {
        "id": "Q25MAIkIY9Py"
      }
    },
    {
      "cell_type": "code",
      "source": [
        "##Question1\n",
        "\n",
        "string = 'Supercalifragilisticexpialidocious'\n",
        "print(\"Question1 - How many letters are there in 'Supercalifragilisticexpialidocious?\")\n",
        "print(\"Ans =>\" , len(string))"
      ],
      "metadata": {
        "colab": {
          "base_uri": "https://localhost:8080/"
        },
        "id": "mt7FQyspa-6L",
        "outputId": "ddec4292-0fcc-4735-d3af-37fac46e8e95"
      },
      "execution_count": null,
      "outputs": [
        {
          "output_type": "stream",
          "name": "stdout",
          "text": [
            "Question1 - How many letters are there in 'Supercalifragilisticexpialidocious?\n",
            "Ans => 34\n"
          ]
        }
      ]
    },
    {
      "cell_type": "code",
      "source": [
        "##Question2\n",
        "\n",
        "print(\"Question2 - Does 'Supercalifragilisticexpialidocious' contain 'ice' as a substring?\")\n",
        "\n",
        "substring = 'ice'\n",
        "\n",
        "if substring in string:\n",
        "    print(\"Ans => The substring 'ice' is present in the word.\")\n",
        "else:\n",
        "    print(\"Ans => The substring 'ice' is not present in the word.\")"
      ],
      "metadata": {
        "colab": {
          "base_uri": "https://localhost:8080/"
        },
        "id": "1vdNMhCJDHka",
        "outputId": "a1334345-759d-403b-b330-fe3f9b0fa32b"
      },
      "execution_count": null,
      "outputs": [
        {
          "output_type": "stream",
          "name": "stdout",
          "text": [
            "Question2 - Does 'Supercalifragilisticexpialidocious' contain 'ice' as a substring?\n",
            "Ans => The substring 'ice' is present in the word.\n",
            " \n"
          ]
        }
      ]
    },
    {
      "cell_type": "code",
      "source": [
        "##Question3\n",
        "print(\"Question3 - Which of the following words is the longest: \")\n",
        "\n",
        "words  = ['Supercalifragilisticexpialidocious',\n",
        "         'Honorificabilitudinitatibus',\n",
        "         'Bababadalgharaghtakamminarronnkonn']\n",
        "\n",
        "longest_word = ''\n",
        "for i in words:\n",
        "    if len(i) > len(longest_word):\n",
        "      longest_word = i\n",
        "      print(\"Ans => The longest word is:\", longest_word)"
      ],
      "metadata": {
        "colab": {
          "base_uri": "https://localhost:8080/"
        },
        "id": "bz66HTaVDNyY",
        "outputId": "1872cb2f-5179-4444-e03a-56f52064a759"
      },
      "execution_count": null,
      "outputs": [
        {
          "output_type": "stream",
          "name": "stdout",
          "text": [
            "Question3 - Which of the following words is the longest: \n",
            "Ans => The longest word is: Supercalifragilisticexpialidocious\n"
          ]
        }
      ]
    },
    {
      "cell_type": "code",
      "source": [
        "##Question4\n",
        "print(\"Question4 - Which composer comes first in the dictionary: 'Berlioz', 'Borodin', 'Brian', 'Bartok', 'Bellini', 'Buxtehude', 'Bernstein'. Which one comes last: \")\n",
        "\n",
        "composers = ['Berlioz', 'Borodin', 'Brian', 'Bartok', 'Bellini', 'Buxtehude', 'Bernstein']\n",
        "composers.sort()\n",
        "print(\"Ans => First Composer from dictionary is \", composers[0] , \"and Last Composer from dictionary is \" ,composers[-1])"
      ],
      "metadata": {
        "colab": {
          "base_uri": "https://localhost:8080/"
        },
        "id": "fNP_ACEKDWeN",
        "outputId": "93cd57b1-9188-440b-8927-a5167cae88af"
      },
      "execution_count": null,
      "outputs": [
        {
          "output_type": "stream",
          "name": "stdout",
          "text": [
            "Question4 - Which composer comes first in the dictionary: 'Berlioz', 'Borodin', 'Brian', 'Bartok', 'Bellini', 'Buxtehude', 'Bernstein'. Which one comes last: \n",
            "Ans => First Composer from dictionary is  Bartok and Last Composer from dictionary is  Buxtehude\n"
          ]
        }
      ]
    },
    {
      "cell_type": "markdown",
      "source": [
        "\n",
        "\n",
        "---\n",
        "\n",
        "\n",
        "# **Question 3 :**\n",
        "Implement function triangleArea(a,b,c) that takes as input the lengths of the 3 sides of a triangle and returns the area of the triangle. By Heron's formula, the area of a triangle with side lengths a, b, and c is s(s - a)(s -b)(s -c), wheres = (a+b+c)/2.\n",
        "\n",
        "---\n",
        "\n",
        "\n",
        "\n"
      ],
      "metadata": {
        "id": "Jh-ATKltr2zN"
      }
    },
    {
      "cell_type": "code",
      "source": [
        "import math\n",
        "\n",
        "def triangleArea(a,b,c):\n",
        "  s=(a+b+c)/2\n",
        "  area= math.sqrt(s*(s-a)*(s-b)*(s-c))\n",
        "  return area\n",
        "\n",
        "l = int(input(\"Enter the length of triangle :\"))\n",
        "b = int(input(\"Enter the breadth of triangle :\"))\n",
        "h = int(input(\"Enter the height of triangle :\"))\n",
        "\n",
        "print(\"The area of triangle is\",triangleArea(l,b,h))"
      ],
      "metadata": {
        "colab": {
          "base_uri": "https://localhost:8080/"
        },
        "id": "moOPuaehr775",
        "outputId": "2d4c8331-f68f-4b60-d3d3-b8f77da3b54d"
      },
      "execution_count": 35,
      "outputs": [
        {
          "output_type": "stream",
          "name": "stdout",
          "text": [
            "Enter the length of triangle :2\n",
            "Enter the breadth of triangle :2\n",
            "Enter the height of triangle :2\n",
            "The area of triangle is 1.7320508075688772\n"
          ]
        }
      ]
    },
    {
      "cell_type": "markdown",
      "source": [
        "\n",
        "\n",
        "---\n",
        "\n",
        "\n",
        "# **Question 4 :**\n",
        "Write a program in python to separate odd and even integers in separate arrays. Go to the editor\n",
        "\n",
        "\n",
        "---\n",
        "\n"
      ],
      "metadata": {
        "id": "fKqOPKUL96KV"
      }
    },
    {
      "cell_type": "code",
      "source": [
        "n = int(input(\"Input the number of elements to be stored in the array: \"))\n",
        "\n",
        "even_numbers = []\n",
        "odd_numbers = []\n",
        "\n",
        "print(\"Input {} elements in the array:\".format(n))\n",
        "for i in range(n):\n",
        "    element = int(input(\"element - {}: \".format(i)))\n",
        "    if element % 2 == 0:\n",
        "        even_numbers.append(element)\n",
        "    else:\n",
        "        odd_numbers.append(element)\n",
        "\n",
        "print(\"\\nThe Even elements are:\", \" \".join(str(num) for num in even_numbers))\n",
        "print(\"The Odd elements are:\", \" \".join(str(num) for num in odd_numbers))"
      ],
      "metadata": {
        "colab": {
          "base_uri": "https://localhost:8080/"
        },
        "id": "31tkZAi5-Gdb",
        "outputId": "f9935423-6604-47cb-af0a-b037863b412f"
      },
      "execution_count": null,
      "outputs": [
        {
          "output_type": "stream",
          "name": "stdout",
          "text": [
            "Input the number of elements to be stored in the array: 5\n",
            "Input 5 elements in the array:\n",
            "element - 0: 1\n",
            "element - 1: 2\n",
            "element - 2: 3\n",
            "element - 3: 4\n",
            "element - 4: 5\n",
            "\n",
            "The Even elements are: 2 4\n",
            "The Odd elements are: 1 3 5\n"
          ]
        }
      ]
    },
    {
      "cell_type": "markdown",
      "source": [
        "\n",
        "\n",
        "---\n",
        "\n",
        "\n",
        "# **Question 5 :**\n",
        "* Write a function inside(x,y,x1,y1,x2,y2) that returns True or False\n",
        "depending on whether the point (x,y) lies in the rectangle with lower left\n",
        "corner (x1,y1) and upper right corner (x2,y2).\n",
        "\n",
        "* Use function inside() from part a. to write an expression that tests whether\n",
        "the point (1,1) lies in both of the following rectangles: one with lower left\n",
        "corner (0.3, 0.5) and upper right corner (1.1, 0.7) and the other with lower\n",
        "left corner (0.5, 0.2) and upper right corner (1.1, 2).\n",
        "\n",
        "---\n",
        "\n"
      ],
      "metadata": {
        "id": "yIUbj-4H_FVT"
      }
    },
    {
      "cell_type": "code",
      "source": [
        "# a. Write a function inside(x,y,x1,y1,x2,y2) that returns True or False depending on whether the point (x,y) lies in the rectangle with lower left corner (x1,y1) and upper right corner (x2,y2)\n",
        "\n",
        "def inside(x, y, x1, y1, x2, y2):\n",
        "\n",
        "    if x1 <= x <= x2 and y1 <= y <= y2:\n",
        "        return True\n",
        "    else:\n",
        "        return False\n",
        "\n",
        "print(inside(1, 1, 0, 0, 2, 2))  # True\n",
        "print(inside(3, 3, 0, 0, 2, 2))  # False"
      ],
      "metadata": {
        "colab": {
          "base_uri": "https://localhost:8080/"
        },
        "id": "AZpXR_yLALMk",
        "outputId": "fa2912d8-da42-4881-97fe-dd9adbe4f87a"
      },
      "execution_count": null,
      "outputs": [
        {
          "output_type": "stream",
          "name": "stdout",
          "text": [
            "True\n",
            "False\n"
          ]
        }
      ]
    },
    {
      "cell_type": "code",
      "source": [
        "# b. Use function inside() from part a. to write an expression that tests whether the point (1,1) lies in both of the following rectangles: one with lower left corner (0.3, 0.5) and upper right corner (1.1, 0.7) and the other with lower left corner (0.5, 0.2) and upper right corner (1.1, 2)\n",
        "\n",
        "rectangle1 = inside(1, 1, 0.3, 0.5, 1.1, 0.7)\n",
        "rectangle2 = inside(1, 1, 0.5, 0.2, 1.1, 2)\n",
        "\n",
        "if rectangle1 and rectangle2:\n",
        "    print(\"The point (1, 1) lies in both rectangles.\")\n",
        "else:\n",
        "    print(\"The point (1, 1) does not lie in both rectangles.\")"
      ],
      "metadata": {
        "colab": {
          "base_uri": "https://localhost:8080/"
        },
        "id": "tBGqxXiWAVHo",
        "outputId": "f3e39d2d-5cc6-4db7-95f8-64db7df23e3b"
      },
      "execution_count": null,
      "outputs": [
        {
          "output_type": "stream",
          "name": "stdout",
          "text": [
            "The point (1, 1) does not lie in both rectangles.\n"
          ]
        }
      ]
    },
    {
      "cell_type": "markdown",
      "source": [
        "\n",
        "\n",
        "---\n",
        "\n",
        "\n",
        "# **Question 6 :**\n",
        "You can turn a word into pig-Latin using the following two rules (simplified):\n",
        "* If the word starts with a consonant, move that letter to the end and append\n",
        "'ay'. For example, 'happy' becomes 'appyhay' and 'pencil' becomes 'encilpay'.\n",
        "* If the word starts with a vowel, simply append 'way' to the end of the word.\n",
        "For example, 'enter' becomes 'enterway' and 'other' becomes 'otherway' . For\n",
        "our purposes, there are 5 vowels: a, e, i, o, u (so we count y as a consonant).\n",
        "* Write a function pig() that takes a word (i.e., a string) as input and returns its pig Latin form. Your function should still work if the input word contains upper case\n",
        "characters. Your output should always be lower case however.\n",
        "\n",
        "\n",
        "---\n",
        "\n"
      ],
      "metadata": {
        "id": "UQ1zrgrxa5Qv"
      }
    },
    {
      "cell_type": "code",
      "source": [
        "def pig(word):\n",
        "    vowels = ['a', 'e', 'i', 'o', 'u']\n",
        "    word = word.lower()\n",
        "    if word[0] in vowels:\n",
        "        return word + 'way'\n",
        "    else:\n",
        "        return word[1:] + word[0] + 'ay'\n",
        "\n",
        "val = input(\"Enter your word : \")\n",
        "print(pig(val))"
      ],
      "metadata": {
        "colab": {
          "base_uri": "https://localhost:8080/"
        },
        "id": "L_oqolBgbT2M",
        "outputId": "cd73ce31-9844-4e60-91e8-28d213c4bfde"
      },
      "execution_count": null,
      "outputs": [
        {
          "output_type": "stream",
          "name": "stdout",
          "text": [
            "Enter your word : dhaval\n",
            "havalday\n"
          ]
        }
      ]
    },
    {
      "cell_type": "markdown",
      "source": [
        "\n",
        "\n",
        "---\n",
        "\n",
        "\n",
        "#**Question 7 :**\n",
        "File bloodtype1.txt records blood-types of patients (A, B, AB, O or OO) at a clinic.\n",
        "Write a function bldcount() that reads the file with name and reports (i.e.,\n",
        "prints) how many patients there are in each bloodtype.\n",
        "\n",
        "---\n",
        "\n",
        "\n"
      ],
      "metadata": {
        "id": "cj3foTziexjA"
      }
    },
    {
      "cell_type": "code",
      "source": [
        "def bldcount():\n",
        "  with open('Bloodgroup.txt', 'r') as file:\n",
        "        # Step 2: Read the content of the file\n",
        "        content = file.read()\n",
        "\n",
        "        # Step 3: Split the content by spaces\n",
        "        blood_groups = content.split()\n",
        "\n",
        "        # Step 4: Create a dictionary to store the count\n",
        "        count_dict = {}\n",
        "\n",
        "        # Step 5: Iterate through blood groups and update the count\n",
        "        for group in blood_groups:\n",
        "            if group in count_dict:\n",
        "                count_dict[group] += 1\n",
        "            else:\n",
        "                count_dict[group] = 1\n",
        "\n",
        "        # Step 6: Print the count of people per blood group\n",
        "        for group, count in count_dict.items():\n",
        "            print(f\"There are\", count, \"patients of blood type\", group)\n",
        "bldcount()"
      ],
      "metadata": {
        "colab": {
          "base_uri": "https://localhost:8080/"
        },
        "id": "fjeGTDGoy_n-",
        "outputId": "562098c7-2a36-44ec-fbbd-93f72dd93403"
      },
      "execution_count": 28,
      "outputs": [
        {
          "output_type": "stream",
          "name": "stdout",
          "text": [
            "There are 13 patients of blood type AB\n",
            "There are 1 patients of blood type B\n",
            "There are 15 patients of blood type O\n",
            "There are 15 patients of blood type A\n"
          ]
        }
      ]
    },
    {
      "cell_type": "markdown",
      "source": [
        "# **Question 8 :**\n",
        "Write a function curconv() that takes as input:\n",
        "* A currency represented using a string (e.g., 'JPY' for the Japanese Yen or\n",
        "'EUR' for the Euro)\n",
        "* An amount and then converts and returns the amount in US dollars.\n",
        "\n",
        "---\n",
        "\n"
      ],
      "metadata": {
        "id": "2Ll36wFNxg3Q"
      }
    },
    {
      "cell_type": "code",
      "source": [
        "def curconv(currency_input,amount_input):\n",
        "    currency_conversions = {}\n",
        "    with open('currencies.txt', 'r') as file:\n",
        "        for line in file:\n",
        "            currency, rate, currency_name = line.strip().split('\\t')\n",
        "            rate = float(rate)\n",
        "            currency_conversions[currency] = rate\n",
        "\n",
        "# Convert the amount to USD\n",
        "    if currency_input in currency_conversions:\n",
        "        conversion_rate = currency_conversions[currency_input]\n",
        "        usd_amount = amount_input * conversion_rate\n",
        "        print(f\"{amount_input} {currency_input} is equal to {usd_amount} USD\")\n",
        "    else:\n",
        "        print(\"Currency conversion not available for the given currency.\")\n",
        "\n",
        "\n",
        "#Get user input for currency and amount\n",
        "\n",
        "currency_input = input(\"Enter the currency: \")\n",
        "amount_input = float(input(\"Enter the amount: \"))\n",
        "curconv(currency_input,amount_input)"
      ],
      "metadata": {
        "id": "hNRy4ak0e7Kl",
        "colab": {
          "base_uri": "https://localhost:8080/"
        },
        "outputId": "19ca16b4-21fe-4fa7-b532-6bd4451cb913"
      },
      "execution_count": 30,
      "outputs": [
        {
          "output_type": "stream",
          "name": "stdout",
          "text": [
            "Enter the currency: EUR\n",
            "Enter the amount: 100\n",
            "100.0 EUR is equal to 122.96544 USD\n"
          ]
        }
      ]
    },
    {
      "cell_type": "markdown",
      "source": [
        "# **Question 9 :**\n",
        "Each of the following will cause an exception (an error). Identify what type of exception each will cause.\n",
        "\n",
        "---\n",
        "\n"
      ],
      "metadata": {
        "id": "SMBs5VCn2slb"
      }
    },
    {
      "cell_type": "code",
      "source": [
        "my_list = [1, 2, 3, 4, 5, 6, 7, 8, 9, 10]\n",
        "try:\n",
        "    item = my_list[11]  # Trying to access the 12th item\n",
        "except Exception as e:\n",
        "    exception_type = type(e)\n",
        "    print(\"Exception Type:\", exception_type)"
      ],
      "metadata": {
        "colab": {
          "base_uri": "https://localhost:8080/"
        },
        "id": "pGCHPi8E3afn",
        "outputId": "788810c6-2a9f-42b9-d23b-c550ac14052d"
      },
      "execution_count": null,
      "outputs": [
        {
          "output_type": "stream",
          "name": "stdout",
          "text": [
            "Exception Type: <class 'IndexError'>\n"
          ]
        }
      ]
    },
    {
      "cell_type": "code",
      "source": [
        "import math\n",
        "try:\n",
        "    result = math.sqrt(-1.0)\n",
        "except Exception as e:\n",
        "    exception_type = type(e)\n",
        "    print(\"Exception Type:\", exception_type)"
      ],
      "metadata": {
        "colab": {
          "base_uri": "https://localhost:8080/"
        },
        "id": "2DOI4Cqt4qDa",
        "outputId": "b64ef9a9-7bd4-4ea9-bd64-a869707b2859"
      },
      "execution_count": null,
      "outputs": [
        {
          "output_type": "stream",
          "name": "stdout",
          "text": [
            "Exception Type: <class 'ValueError'>\n"
          ]
        }
      ]
    },
    {
      "cell_type": "code",
      "source": [
        "try:\n",
        "    print(x)\n",
        "except Exception as e:\n",
        "    exception_type = type(e)\n",
        "    print(\"Exception Type:\", exception_type)"
      ],
      "metadata": {
        "colab": {
          "base_uri": "https://localhost:8080/"
        },
        "id": "u68OQpQq41hl",
        "outputId": "0039d7d8-2564-43e0-f421-dc957319638d"
      },
      "execution_count": null,
      "outputs": [
        {
          "output_type": "stream",
          "name": "stdout",
          "text": [
            "Exception Type: <class 'NameError'>\n"
          ]
        }
      ]
    },
    {
      "cell_type": "code",
      "source": [
        "try:\n",
        "    file = open(\"nonexistent_file.txt\")\n",
        "except Exception as e:\n",
        "    exception_type = type(e)\n",
        "    print(\"Exception Type:\", exception_type)"
      ],
      "metadata": {
        "colab": {
          "base_uri": "https://localhost:8080/"
        },
        "id": "FIalYG5t45fO",
        "outputId": "01e6c88f-3107-4692-c7fd-d120bba8d9a8"
      },
      "execution_count": null,
      "outputs": [
        {
          "output_type": "stream",
          "name": "stdout",
          "text": [
            "Exception Type: <class 'FileNotFoundError'>\n"
          ]
        }
      ]
    },
    {
      "cell_type": "code",
      "source": [
        "try:\n",
        "   6+'a'\n",
        "except Exception as e:\n",
        "    exception_name = type(e)\n",
        "    print(\"Exception Name:\", exception_name)"
      ],
      "metadata": {
        "colab": {
          "base_uri": "https://localhost:8080/"
        },
        "id": "gyf70Pjv2zpW",
        "outputId": "5f783bab-218c-4080-f5ca-d0561186b8da"
      },
      "execution_count": null,
      "outputs": [
        {
          "output_type": "stream",
          "name": "stdout",
          "text": [
            "Exception Name: <class 'TypeError'>\n"
          ]
        }
      ]
    },
    {
      "cell_type": "markdown",
      "source": [
        "\n",
        "\n",
        "---\n",
        "\n",
        "\n",
        "#**Question 10 :**\n",
        "Encryption is the process of hiding the meaning of a text by substituting letters in the message with other letters, according to some system. If the process is successful, no one but the intended recipient can understand the encrypted message. Cryptanalysis refers to attempts to undo the encryption, even if some details of the encryption are unknown (for example, if an encrypted message has been intercepted). The first step of cryptanalysis is often to build up a table of letter frequencies in the encrypted text.\n",
        "Assume that the string letters is already defined as 'abcdefghijklmnopqrstuvwxyz'. Write a function called frequencies() that takes a string as its only parameter, and returns a list of integers, showing the number of times each character appears in the text. Your function may ignore any characters that are not in letters.\n",
        "\n",
        "\n",
        "\n",
        "---\n",
        "\n"
      ],
      "metadata": {
        "id": "GbO5twB_5C6b"
      }
    },
    {
      "cell_type": "code",
      "source": [
        "def frequencies(text):\n",
        "    letters = 'abcdefghijklmnopqrstuvwxyz'\n",
        "    text = text.lower()\n",
        "    freq_list = [0] * 26\n",
        "\n",
        "    for char in text:\n",
        "        if char in letters:\n",
        "            index = letters.index(char)\n",
        "            freq_list[index] += 1\n",
        "\n",
        "    return freq_list\n",
        "\n",
        "result1 = input(\"Enter the string: \") #frequencies('The quick red fox got bored and went home.')\n",
        "print(frequencies(result1))"
      ],
      "metadata": {
        "colab": {
          "base_uri": "https://localhost:8080/"
        },
        "id": "3b6jZ9b-5N1c",
        "outputId": "8436233d-c88e-4094-e827-cc5157f0f909"
      },
      "execution_count": 24,
      "outputs": [
        {
          "output_type": "stream",
          "name": "stdout",
          "text": [
            "Enter the string: The quick red fox got bored and went home.\n",
            "[1, 1, 1, 3, 5, 1, 1, 2, 1, 0, 1, 0, 1, 2, 4, 0, 1, 2, 0, 3, 1, 0, 1, 1, 0, 0]\n"
          ]
        }
      ]
    }
  ]
}