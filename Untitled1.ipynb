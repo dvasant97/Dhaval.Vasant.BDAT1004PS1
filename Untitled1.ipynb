{
  "nbformat": 4,
  "nbformat_minor": 0,
  "metadata": {
    "colab": {
      "provenance": [],
      "authorship_tag": "ABX9TyPxdwSuQlQPUMUeddec8OZa",
      "include_colab_link": true
    },
    "kernelspec": {
      "name": "python3",
      "display_name": "Python 3"
    },
    "language_info": {
      "name": "python"
    }
  },
  "cells": [
    {
      "cell_type": "markdown",
      "metadata": {
        "id": "view-in-github",
        "colab_type": "text"
      },
      "source": [
        "<a href=\"https://colab.research.google.com/github/dvasant97/Dhaval.Vasant.BDAT1004PS1/blob/main/Untitled1.ipynb\" target=\"_parent\"><img src=\"https://colab.research.google.com/assets/colab-badge.svg\" alt=\"Open In Colab\"/></a>"
      ]
    },
    {
      "cell_type": "markdown",
      "source": [],
      "metadata": {
        "id": "XVT91UMLWhfs"
      }
    },
    {
      "cell_type": "markdown",
      "source": [
        "**Question 2 :**\n",
        "Write (and evaluate) python expressions that answer these questions:\n",
        "\n",
        "1. How many letters are there in 'Supercalifragilisticexpialidocious'?\n",
        "2. Does 'Supercalifragilisticexpialidocious' contain 'ice' as a substring?\n",
        "3. Which of the following words is the longest:\n",
        "    * Supercalifragilisticexpialidocious,\n",
        "    * Honorificabilitudinitatibus OR\n",
        "    * Bababadalgharaghtakamminarronnkonn?\n",
        "\n",
        "4. Which composer comes first in the dictionary: 'Berlioz', 'Borodin', 'Brian',\n",
        "'Bartok', 'Bellini', 'Buxtehude', 'Bernstein'. Which one comes last"
      ],
      "metadata": {
        "id": "Q25MAIkIY9Py"
      }
    },
    {
      "cell_type": "code",
      "source": [
        "##Question1\n",
        "\n",
        "string = 'Supercalifragilisticexpialidocious'\n",
        "print(\"Question1 - How many letters are there in 'Supercalifragilisticexpialidocious?\")\n",
        "print(\"Ans =>\" , len(string))\n",
        "print(\" \")\n",
        "\n",
        "\n",
        "##Question2\n",
        "\n",
        "print(\"Question2 - Does 'Supercalifragilisticexpialidocious' contain 'ice' as a substring?\")\n",
        "\n",
        "substring = 'ice'\n",
        "\n",
        "if substring in string:\n",
        "    print(\"Ans => The substring 'ice' is present in the word.\")\n",
        "else:\n",
        "    print(\"Ans => The substring 'ice' is not present in the word.\")\n",
        "print(\" \")\n",
        "\n",
        "\n",
        "##Question3\n",
        "print(\"Question3 - Which of the following words is the longest: \")\n",
        "\n",
        "words  = ['Supercalifragilisticexpialidocious',\n",
        "         'Honorificabilitudinitatibus',\n",
        "         'Bababadalgharaghtakamminarronnkonn']\n",
        "\n",
        "longest_word = ''\n",
        "for i in words:\n",
        "    if len(i) > len(longest_word):\n",
        "      longest_word = i\n",
        "      print(\"Ans => The longest word is:\", longest_word)\n",
        "\n",
        "\n",
        "\n",
        "##Question4\n",
        "\n",
        "print(\" \")\n",
        "print(\"Question4 - Which composer comes first in the dictionary: 'Berlioz', 'Borodin', 'Brian', 'Bartok', 'Bellini', 'Buxtehude', 'Bernstein'. Which one comes last: \")\n",
        "\n",
        "composers = ['Berlioz', 'Borodin', 'Brian', 'Bartok', 'Bellini', 'Buxtehude', 'Bernstein']\n",
        "composers.sort()\n",
        "print(\"Ans => First Composer from dictionary is \", composers[0] , \"and Last Composer from dictionary is \" ,composers[-1])\n"
      ],
      "metadata": {
        "colab": {
          "base_uri": "https://localhost:8080/"
        },
        "id": "mt7FQyspa-6L",
        "outputId": "7e91742d-d58e-4913-9719-4ddc4a5ad3bc"
      },
      "execution_count": 67,
      "outputs": [
        {
          "output_type": "stream",
          "name": "stdout",
          "text": [
            "Question1 - How many letters are there in 'Supercalifragilisticexpialidocious?\n",
            "Ans => 34\n",
            " \n",
            "Question2 - Does 'Supercalifragilisticexpialidocious' contain 'ice' as a substring?\n",
            "Ans => The substring 'ice' is present in the word.\n",
            " \n",
            "Question3 - Which of the following words is the longest: \n",
            "Ans => The longest word is: Supercalifragilisticexpialidocious\n",
            " \n",
            "Question4 - Which composer comes first in the dictionary: 'Berlioz', 'Borodin', 'Brian', 'Bartok', 'Bellini', 'Buxtehude', 'Bernstein'. Which one comes last: \n",
            "Ans => First Composer from dictionary is  Bartok and Last Composer from dictionary is  Buxtehude\n"
          ]
        }
      ]
    },
    {
      "cell_type": "markdown",
      "source": [
        "**Question 3 :** Implement function triangleArea(a,b,c) that takes as input the lengths of the 3\n",
        "sides of a triangle and returns the area of the triangle. By Heron's formula, the area\n",
        "of a triangle with side lengths a, b, and c is\n",
        "s(s - a)(s -b)(s -c)\n",
        ", where\n",
        "s = (a+b+c)/2.\n",
        "\n",
        "1.   List item\n",
        "2.   List item\n",
        "\n"
      ],
      "metadata": {
        "id": "Jh-ATKltr2zN"
      }
    },
    {
      "cell_type": "code",
      "source": [
        "def triangleArea(a,b,c):\n",
        ""
      ],
      "metadata": {
        "id": "moOPuaehr775"
      },
      "execution_count": null,
      "outputs": []
    },
    {
      "cell_type": "markdown",
      "source": [
        "**Question 1 :**\n",
        "What data type is each of the following (evaluate where necessary)?\n",
        "\n",
        "* 5 = Integer\n",
        "* 5.0 = Float\n",
        "* 5 > 1 = Boolean\n",
        "* '5' = String\n",
        "* 5 * 2 = Integer\n",
        "* '5' * 2 = String\n",
        "* '5' + '2' = String\n",
        "* 5 / 2 = Float\n",
        "* 5 % 2 = Integer\n",
        "* {5, 2, 1} = Set\n",
        "* 5 == 3 = Boolean\n",
        "* Pi (the number) = Float\n"
      ],
      "metadata": {
        "id": "xbz1GyIJTxLO"
      }
    }
  ]
}